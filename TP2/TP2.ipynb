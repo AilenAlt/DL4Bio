{
 "cells": [
  {
   "cell_type": "code",
   "execution_count": 69,
   "metadata": {},
   "outputs": [],
   "source": [
    "import matplotlib.pyplot as plt"
   ]
  },
  {
   "cell_type": "code",
   "execution_count": 758,
   "metadata": {},
   "outputs": [],
   "source": [
    "import numpy as np\n",
    "def initialize_network(input_size, hidden_sizes, output_size):\n",
    "    \"\"\"\n",
    "    Initialize weights and biases for a neural network.\n",
    "    Args:\n",
    "        input_size: Number of inputs to the network.\n",
    "        hidden_sizes: List of neurons in each hidden layer (n, m, l...) size of layer n, size of layer m\n",
    "        etc.\n",
    "        output_size: Number of outputs of the network.\n",
    "    Returns:\n",
    "    List of (weights, biases) tuples for each layer.\n",
    "    \"\"\"\n",
    "    layer_sizes = [input_size] + hidden_sizes + [output_size]\n",
    "    #print('Layer sizes:',layer_sizes)\n",
    "    network = []\n",
    "    for i in range(len(layer_sizes) - 1):\n",
    "        # weights = np.random.randn(layer_sizes[i + 1], layer_sizes[i]) * 0.1\n",
    "        weights = np.random.randn(layer_sizes[i + 1], layer_sizes[i])\n",
    "        # This creates a 2D array of random values with shape (layer_sizes[i + 1], layer_sizes[i]),\n",
    "        # where each entry represents the weight connecting a neuron in the current layer to a\n",
    "        # neuron in the next layer.\n",
    "        biases = np.zeros(layer_sizes[i + 1])\n",
    "        network.append((weights, biases))\n",
    "    return network"
   ]
  },
  {
   "cell_type": "markdown",
   "metadata": {},
   "source": [
    "Escriba un pequeño codigo que inicialice la red y le permita verificar su forma y la cantidad de\n",
    "weights y bias. Juegue alterando los valores de entrada hasta convencerse de que entiende\n",
    "como es inicializada la red."
   ]
  },
  {
   "cell_type": "code",
   "execution_count": 759,
   "metadata": {},
   "outputs": [
    {
     "name": "stdout",
     "output_type": "stream",
     "text": [
      "[(array([[ 0.70461995],\n",
      "       [-2.64846109]]), array([0., 0.])), (array([[ 1.02401985, -1.3733514 ],\n",
      "       [ 0.75309608, -1.30694211],\n",
      "       [ 0.6870832 , -1.26500175]]), array([0., 0., 0.])), (array([[-0.40791661,  0.75243451,  0.20103921]]), array([0.]))]\n"
     ]
    }
   ],
   "source": [
    "nw = initialize_network(1, [2,3], 1)\n",
    "print(nw)"
   ]
  },
  {
   "cell_type": "code",
   "execution_count": 760,
   "metadata": {},
   "outputs": [
    {
     "name": "stdout",
     "output_type": "stream",
     "text": [
      "L1, weights (rows, columns):  (2, 1)\n",
      "L1, biases:  (2,) \n",
      "\n",
      "L2, weights (rows, columns):  (3, 2)\n",
      "L2, biases:  (3,) \n",
      "\n",
      "L3, weights (rows, columns):  (1, 3)\n",
      "L3, biases:  (1,)\n"
     ]
    }
   ],
   "source": [
    "print('L1, weights (rows, columns): ', nw[0][0].shape)\n",
    "print('L1, biases: ', nw[0][1].shape, '\\n')\n",
    "print('L2, weights (rows, columns): ', nw[1][0].shape)\n",
    "print('L2, biases: ', nw[1][1].shape, '\\n')\n",
    "print('L3, weights (rows, columns): ', nw[2][0].shape)\n",
    "print('L3, biases: ', nw[2][1].shape)"
   ]
  },
  {
   "cell_type": "code",
   "execution_count": 790,
   "metadata": {},
   "outputs": [],
   "source": [
    "# Sigmoid activation function\n",
    "def sigmoid(x):\n",
    "    return 1 / (1 + np.exp(-x))\n",
    "\n",
    "def relu(x):\n",
    "    return (x > 0) * x\n",
    "\n",
    "def forward_layer_batch(inputs, weights, biases):\n",
    "    \"\"\"\n",
    "    Perform a forward pass for a layer with a batch of inputs.\n",
    "    Args:\n",
    "    inputs: Input to the layer (2D array: batch_size x input_features).\n",
    "    weights: Weights of the layer (2D array: neurons x input_features).\n",
    "    biases: Biases of the layer (1D array: neurons).\n",
    "    Returns:\n",
    "    Outputs of the layer (2D array: batch_size x neurons).\n",
    "    \"\"\"\n",
    "    z = np.dot(inputs, weights.T) + biases # Weighted sum (broadcast biases)\n",
    "    return sigmoid(z), z\n",
    "    #return relu(z)\n",
    "\n",
    "def forward_network_batch(inputs, network):\n",
    "    \"\"\"\n",
    "    Perform a forward pass through the network for a batch of inputs.\n",
    "    Args:\n",
    "    inputs: Input to the network (2D array: batch_size x input_features).\n",
    "    network: List of (weights, biases) for each layer.\n",
    "    Returns:\n",
    "    Activations for all layers.\n",
    "    \"\"\"\n",
    "    activations = [inputs]\n",
    "    preactivations = [inputs]\n",
    "\n",
    "    for weights, biases in network:\n",
    "        inputs, preactivation = forward_layer_batch(inputs, weights, biases)\n",
    "        activations.append(inputs)\n",
    "        preactivations.append(preactivation)\n",
    "    return activations, preactivations"
   ]
  },
  {
   "cell_type": "markdown",
   "metadata": {},
   "source": [
    "Ejercicio 1.2.1\n",
    "\n",
    "Escriba un codigo que dados los valores de entrada de la función (puede usar el\n",
    "intervalo -1 a 1, espaciado en 0.1), lo que serìa un batch, realice el fwd_pass para una dada red\n",
    "inicializada al azar y grafique el resultado. Grafique ademas la función correcta. Pruebe\n",
    "diferentes arquitecturas. ¿cree que es posible solo por azar obtener una red que recupere la\n",
    "función?"
   ]
  },
  {
   "cell_type": "code",
   "execution_count": 775,
   "metadata": {},
   "outputs": [],
   "source": [
    "# Function to replicate\n",
    "def fun(x):\n",
    "    if -1 <= x < -0.33:\n",
    "        res = 0\n",
    "    elif -0.33 <= x < 0.33:\n",
    "        res = 1\n",
    "    elif 0.33 <= x <= 1:\n",
    "        res = 0.5\n",
    "    return res\n",
    "\n",
    "y = np.array([fun(x) for x in np.arange(-1, 1, 0.1)])\n"
   ]
  },
  {
   "cell_type": "code",
   "execution_count": 776,
   "metadata": {},
   "outputs": [],
   "source": [
    "x = np.arange(-1, 1, 0.1).reshape(-1,1)\n",
    "\n",
    "# Arquitectura 1*2*3*1\n",
    "nw = initialize_network(1, [2,3], 1)\n",
    "activation = forward_network_batch(x, nw)"
   ]
  },
  {
   "cell_type": "code",
   "execution_count": 777,
   "metadata": {},
   "outputs": [
    {
     "data": {
      "text/plain": [
       "array([[0.33096435],\n",
       "       [0.33124564],\n",
       "       [0.33151496],\n",
       "       [0.33176487],\n",
       "       [0.33198841],\n",
       "       [0.33218001],\n",
       "       [0.33233645],\n",
       "       [0.33245778],\n",
       "       [0.33254785],\n",
       "       [0.33261436],\n",
       "       [0.33266822],\n",
       "       [0.33272225],\n",
       "       [0.33278951],\n",
       "       [0.3328816 ],\n",
       "       [0.33300718],\n",
       "       [0.33317114],\n",
       "       [0.33337438],\n",
       "       [0.3336142 ],\n",
       "       [0.33388517],\n",
       "       [0.33418006]])"
      ]
     },
     "execution_count": 777,
     "metadata": {},
     "output_type": "execute_result"
    }
   ],
   "source": [
    "activation[3]"
   ]
  },
  {
   "cell_type": "code",
   "execution_count": 791,
   "metadata": {},
   "outputs": [],
   "source": [
    "y_pred = activation[-1]\n"
   ]
  },
  {
   "cell_type": "code",
   "execution_count": 794,
   "metadata": {},
   "outputs": [],
   "source": [
    "# Arquitectura 1*2*3*4*1\n",
    "nw1 = initialize_network(1, [10, 5], 1)\n",
    "activation1 = forward_network_batch(x, nw1)\n",
    "y_pred1 = activation1[0][-1]"
   ]
  },
  {
   "cell_type": "code",
   "execution_count": 795,
   "metadata": {},
   "outputs": [
    {
     "data": {
      "image/png": "[encoded data removed]",
      "text/plain": [
       "<Figure size 640x480 with 1 Axes>"
      ]
     },
     "metadata": {},
     "output_type": "display_data"
    }
   ],
   "source": [
    "plt.plot(x, y, color = '#550527', label = 'True')\n",
    "plt.plot(x, y_pred, color = '#688E26', label = '1x2x3x1')\n",
    "plt.plot(x, y_pred1, color = '#F44708', label = '1x10x5x1')\n",
    "plt.xlabel(\"X\")\n",
    "plt.ylabel(\"Y\")\n",
    "plt.legend()\n",
    "plt.grid()\n",
    "plt.show()\n"
   ]
  },
  {
   "cell_type": "code",
   "execution_count": 796,
   "metadata": {},
   "outputs": [],
   "source": [
    "# Derivative of the sigmoid function\n",
    "def sigmoid_derivative(x):\n",
    "    s = sigmoid(x)\n",
    "    return s * (1 - s)\n",
    "\n",
    "\n",
    "def relu_derivative(x):\n",
    "    return (x > 0) * 1\n",
    "\n",
    "# Root Mean Squared Error (RMSE) loss function\n",
    "def rmse_loss(y_pred, y_true):\n",
    "    return np.sqrt(np.mean((y_pred - y_true) ** 2))\n",
    "\n",
    "def backward_layer_batch(inputs, weights, d_loss, activation_derivative):\n",
    "    \"\"\"\n",
    "    Perform a backward pass for a layer with a batch of inputs.\n",
    "    Args:\n",
    "    inputs: Input to the layer (2D array: batch_size x input_features).\n",
    "    weights: Weights of the layer (2D array: neurons x input_features).\n",
    "    biases: Biases of the layer (1D array: neurons).\n",
    "    d_loss: Gradients of the loss w.r.t. layer outputs (2D array: batch_size x neurons).\n",
    "    activation_derivative: Derivative of the activation function (2D array: batch_size x neurons).\n",
    "    Returns:\n",
    "    d_weights: Gradients of the weights (2D array: neurons x input_features).\n",
    "    d_biases: Gradients of the biases (1D array: neurons).\n",
    "    d_inputs: Gradients of the inputs to propagate backward (2D array: batch_size x\n",
    "    input_features).\n",
    "    \"\"\"\n",
    "\n",
    "    # Gradients w.r.t. activations\n",
    "    d_activation = d_loss * activation_derivative\n",
    "\n",
    "    # Gradients w.r.t. weights and biases (average across batch)\n",
    "    d_weights = np.dot(d_activation.T, inputs) / len(inputs) # (neurons x inputs)\n",
    "    d_biases = np.mean(d_activation, axis=0) # Average across batch\n",
    "\n",
    "    # Gradients to propagate backward to the previous layer\n",
    "    d_inputs = np.dot(d_activation, weights) # (batch_size x input_features)\n",
    "\n",
    "    return d_weights, d_biases, d_inputs\n",
    "\n",
    "def backward_network_batch(activations_res, network, y_true, learning_rate):\n",
    "    \"\"\"\n",
    "    Perform a backward pass through the network for a batch of inputs.\n",
    "    Args:\n",
    "    activations: Activations from the forward pass.\n",
    "    network: List of (weights, biases) for each layer.\n",
    "    y_true: True output values (2D array: batch_size x output_neurons).\n",
    "    learning_rate: Learning rate for updates.\n",
    "    Returns:\n",
    "    Loss for the batch.\n",
    "    \"\"\"\n",
    "    activations = activations_res[0]\n",
    "    preactivations = activations_res[1] \n",
    "   \n",
    "    y_pred = activations[-1]\n",
    "    loss = np.mean(rmse_loss(y_pred, y_true)) # Average RMSE over the batch\n",
    "    d_loss = (y_pred - y_true) / (len(y_true) * loss + 1e-15) # Gradient of RMSE# Backward pass through each layer\n",
    "    \n",
    "    for i in reversed(range(len(network))):\n",
    "        weights, biases = network[i]\n",
    "        inputs = activations[i]\n",
    "        activation_derivative = sigmoid_derivative(preactivations[i + 1])\n",
    "        #activation_derivative = relu_derivative(activations[i + 1])\n",
    "    \n",
    "        # Compute gradients\n",
    "        d_weights, d_biases, d_loss = backward_layer_batch(inputs, weights, d_loss,\n",
    "        activation_derivative)\n",
    "\n",
    "        #Update weights and biases\n",
    "        network[i] = (\n",
    "        weights - learning_rate * d_weights,\n",
    "        biases - learning_rate * d_biases\n",
    "        )\n",
    "    return loss"
   ]
  },
  {
   "cell_type": "markdown",
   "metadata": {},
   "source": [
    "Ejercicio 1.2.2) \n",
    "Escriba un codigo que tomando los valores de entrada de la función (use el\n",
    "intervalo -1 a 1, espaciado en 0.1), realicé el entrenamiento y permita analizar (graficar) como\n",
    "decae la LF , y luego como es la predicciòn de la red entrenada comparada con la real.\n",
    "\n",
    "\n",
    "Analicé el efecto de la cantidad de pasos y el LR (consejo, pruebe utilizar un LR que decaiga a\n",
    "medida que avanza el entrenamiento). Analicè el efecto de cambiar la arquitectura de las capas\n",
    "ocultas de la red (recuerde que necesita 1 input y 1 neurona de salida). Nota: recuerde que los\n",
    "ipnuts y valores y_true deben tener formato np.array (es muy fàcil convertir una lista a este\n",
    "formato)."
   ]
  },
  {
   "cell_type": "code",
   "execution_count": 801,
   "metadata": {},
   "outputs": [],
   "source": [
    "y = y.reshape(-1, 1)\n",
    "\n",
    "nw = initialize_network(1, [2], 1)\n",
    "losses = []\n",
    "    \n",
    "for n in range(30000):\n",
    "    activation = forward_network_batch(x, nw)\n",
    "    lr = 1\n",
    "    losses.append(backward_network_batch(activation, nw, y, lr))\n",
    "    # if (n % 100 == 0):\n",
    "    #     LR = LR * 0.99\n",
    "\n",
    "activation, preactivation = forward_network_batch(x, nw)\n",
    "ypred = activation[-1]"
   ]
  },
  {
   "cell_type": "code",
   "execution_count": 802,
   "metadata": {},
   "outputs": [
    {
     "data": {
      "image/png": "[encoded data removed]",
      "text/plain": [
       "<Figure size 640x480 with 1 Axes>"
      ]
     },
     "metadata": {},
     "output_type": "display_data"
    }
   ],
   "source": [
    "plt.plot(x, y, color = '#550527', label = 'True')\n",
    "plt.plot(x, ypred, color = '#688E26', label = 'malisimo')\n",
    "plt.xlabel(\"X\")\n",
    "plt.ylabel(\"Y\")\n",
    "plt.legend()\n",
    "plt.grid()\n",
    "plt.show()\n"
   ]
  },
  {
   "cell_type": "code",
   "execution_count": 803,
   "metadata": {},
   "outputs": [
    {
     "data": {
      "text/plain": [
       "[<matplotlib.lines.Line2D at 0x74651be376d0>]"
      ]
     },
     "execution_count": 803,
     "metadata": {},
     "output_type": "execute_result"
    },
    {
     "data": {
      "image/png": "[encoded data removed]",
      "text/plain": [
       "<Figure size 640x480 with 1 Axes>"
      ]
     },
     "metadata": {},
     "output_type": "display_data"
    }
   ],
   "source": [
    "plt.plot(losses)"
   ]
  },
  {
   "cell_type": "code",
   "execution_count": 800,
   "metadata": {},
   "outputs": [
    {
     "data": {
      "text/plain": [
       "0.3254480123681918"
      ]
     },
     "execution_count": 800,
     "metadata": {},
     "output_type": "execute_result"
    }
   ],
   "source": [
    "losses[-1]"
   ]
  },
  {
   "cell_type": "markdown",
   "metadata": {},
   "source": [
    "Ejercicio 1.2.3) Ajuste de hiperparàmetros\n",
    "Una de las claves en el ML y también en las redes neuronales es el ajuste de los\n",
    "hiperparàmetros. Dejando de lado la discusión de cuáles serìan en este caso los\n",
    "hiperparàmetros, en este ejercicio vamos a analizar: i) el Learning Rate, ii) el Numer de epocas\n",
    "(#E),, iii) la arquitectura de la redEmpecemos por analizar el LR y #E, para eso usaremos una arquitectura fija de 3 capas\n",
    "ocultas con 3 neurona cada una (puede probar con otras si quiere)\n",
    "\n",
    "a) Analicé como evoluciona la LF y la función predicha a medida que aumenta el #E (trate de\n",
    "elegir un LR que de resultados significativos\n",
    "¿que pasa si utiliza pocos pasos? ¿que pasa si utiliza demasiados?\n",
    "\n",
    "\n",
    "b) Analicé como evoluciona la LF y la función predicha con diferentes LR (empiece en un valor\n",
    "chico 0.1-1 e incremente de a 2-10x). ¿puede encontrar un valor (rango) de LR optimo?\n",
    "Como en cualquier optimización en general a medida que uno se acerca al mínimo se deben\n",
    "hacer pasos más pequeños. Pruebe implementar un LR que vaya decreciendo ¿còmo afecta el\n",
    "mismo a la LF y a la función resultante?\n",
    "\n",
    "\n",
    "c) Analicé (utilizando un #E y LR optimos) el resultado de la LF y función predicha para\n",
    "diferentes arquitecturas (variando la capas ocultas). Comience con 1 capa de 1 neurona (1),\n",
    "luego incremente en el número de neuronas (2), o en el número de capas (1,1), o ambas (2,2).\n",
    "Etc, puede incluso avanzar a redes más complejas como (2,3,5,3,2) etc. ¿hay algun umbral\n",
    "mínimo de neuronas o capas necesario para reproducir la funciòn razonablemente? ¿qué pasa\n",
    "si el número es menor? ¿que pasa si aumentamos demasiado la complejidad?\n",
    "Habiendo realizado el análisis propuesto, que puede decir del termino “overfitting”."
   ]
  },
  {
   "cell_type": "code",
   "execution_count": 804,
   "metadata": {},
   "outputs": [],
   "source": [
    "def train_network(hidden_layers, epochs, lr, decrease_lr = False):\n",
    "\n",
    "    nw = initialize_network(1, hidden_layers, 1)\n",
    "    losses = []\n",
    "        \n",
    "    for n in range(epochs):\n",
    "        activation = forward_network_batch(x, nw)\n",
    "        losses.append(backward_network_batch(activation, nw, y, lr))\n",
    "    \n",
    "        if decrease_lr:\n",
    "            if (n % 100 == 0):\n",
    "                lr = lr * 0.99\n",
    "\n",
    "        if n % 1000 == 0:\n",
    "            print('Epoch: ', n, '; Loss: ', losses[-1])\n",
    "            \n",
    "    activation = forward_network_batch(x, nw)\n",
    "    ypred = activation[0][-1]\n",
    "\n",
    "    return losses, ypred"
   ]
  },
  {
   "cell_type": "code",
   "execution_count": null,
   "metadata": {},
   "outputs": [],
   "source": []
  }
 ],
 "metadata": {
  "kernelspec": {
   "display_name": "base",
   "language": "python",
   "name": "python3"
  },
  "language_info": {
   "codemirror_mode": {
    "name": "ipython",
    "version": 3
   },
   "file_extension": ".py",
   "mimetype": "text/x-python",
   "name": "python",
   "nbconvert_exporter": "python",
   "pygments_lexer": "ipython3",
   "version": "3.11.7"
  }
 },
 "nbformat": 4,
 "nbformat_minor": 2
}
