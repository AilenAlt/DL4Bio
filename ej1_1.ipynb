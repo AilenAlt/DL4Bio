{
 "cells": [
  {
   "cell_type": "code",
   "execution_count": 237,
   "id": "50c066ae-c383-4c8b-b73f-02830699f82f",
   "metadata": {},
   "outputs": [],
   "source": [
    "import numpy as np\n",
    "import matplotlib.pyplot as plt\n",
    "\n",
    "def compute_gradients(inputs, weights, y_true):\n",
    "    # Forward pass\n",
    "    z = np.dot(inputs, weights)\n",
    "    y_pred = sigmoid(z)\n",
    "    #y_pred = relu(z)\n",
    "    # Compute loss\n",
    "    loss = binary_cross_entropy_loss(y_pred, y_true)\n",
    "    # Backward pass\n",
    "    d_loss = binary_cross_entropy_derivative(y_pred, y_true) # Gradient of loss w.r.t. y_pred\n",
    "    d_activation = sigmoid_derivative(z)# Gradient of sigmoid w.r.t. z\n",
    "    #d_activation = relu_derivative(z)\n",
    "    # Gradients for weights and bias\n",
    "    #d_weights = d_loss * d_activation * inputs # Chain rule: dL/dw\n",
    "    d_weights = np.dot((d_loss * d_activation).T, inputs) / np.shape(inputs)[0]\n",
    "    return d_weights, loss.mean(), y_pred\n",
    "\n",
    "def sigmoid(x):\n",
    "    return 1 / (1 + np.exp(-x))\n",
    "\n",
    "def relu(x):\n",
    "    return x * (x > 0)\n",
    "\n",
    "def relu_derivative(x):\n",
    "    return 1. * (x > 0)\n",
    "\n",
    "# Es importante notar que para este caso NO podemos usar la step\n",
    "# function como función de activación ya que no es derivable, por eso uitilizamos la sigmoidea.\n",
    "\n",
    "# Derivative of the sigmoid function\n",
    "def sigmoid_derivative(x):\n",
    "    s = sigmoid(x)\n",
    "    return s * (1 - s)\n",
    "\n",
    "# Binary cross-entropy loss function\n",
    "def binary_cross_entropy_loss(y_pred, y_true):\n",
    "    return -(y_true * np.log(y_pred + 1e-15) + (1 - y_true) * np.log(1 - y_pred + 1e-15))\n",
    "\n",
    "# LF derivative\n",
    "def binary_cross_entropy_derivative(y_pred, y_true):\n",
    "    return y_pred - y_true\n",
    "\n",
    "def optimizacion(old_value, gradient, LR):\n",
    "    new_value = old_value - gradient * LR\n",
    "    return new_value"
   ]
  },
  {
   "cell_type": "code",
   "execution_count": 263,
   "id": "4d2f3a47-c79d-4996-b48b-c727deca4951",
   "metadata": {},
   "outputs": [],
   "source": [
    "inputs = np.array([[0, 0], [0, 1], [1, 0], [1, 1]])\n",
    "# Add bias column\n",
    "inputs = np.hstack([np.ones((4, 1)),inputs])\n",
    "y = np.array([[0, 1, 1, 1]])\n",
    "y = y.reshape(4)\n",
    "init_w = np.random.rand(3)\n",
    "init_w[0] = 0"
   ]
  },
  {
   "cell_type": "code",
   "execution_count": 264,
   "id": "d95ecf55-9bb2-4a7a-9700-aaa3a088a28c",
   "metadata": {},
   "outputs": [],
   "source": [
    "epochs = 10000\n",
    "weights = init_w\n",
    "losses = []\n",
    "for epoch in range(epochs):\n",
    "    d_weights, loss, y_hat = compute_gradients(inputs, weights, y)\n",
    "    losses.append(loss)\n",
    "    weights = optimizacion(weights, d_weights, 10)"
   ]
  },
  {
   "cell_type": "code",
   "execution_count": 265,
   "id": "a48dae49-abe5-432a-a4d5-80133be6bd44",
   "metadata": {},
   "outputs": [
    {
     "data": {
      "image/png": "[encoded data removed]",
      "text/plain": [
       "<Figure size 640x480 with 1 Axes>"
      ]
     },
     "metadata": {},
     "output_type": "display_data"
    }
   ],
   "source": [
    "plt.plot(losses)\n",
    "plt.show()"
   ]
  },
  {
   "cell_type": "code",
   "execution_count": 266,
   "id": "34dda300-d870-4f3a-9c78-cdcb0eea3f43",
   "metadata": {},
   "outputs": [
    {
     "data": {
      "text/plain": [
       "array([0.00318019, 0.99799004, 0.99799004, 0.99999999])"
      ]
     },
     "execution_count": 266,
     "metadata": {},
     "output_type": "execute_result"
    }
   ],
   "source": [
    "sigmoid(np.dot(inputs, weights))"
   ]
  },
  {
   "cell_type": "code",
   "execution_count": null,
   "id": "68fcc9bf-59d7-4f26-bb41-4447d939715c",
   "metadata": {},
   "outputs": [],
   "source": []
  }
 ],
 "metadata": {
  "kernelspec": {
   "display_name": "Python 3 (ipykernel)",
   "language": "python",
   "name": "python3"
  },
  "language_info": {
   "codemirror_mode": {
    "name": "ipython",
    "version": 3
   },
   "file_extension": ".py",
   "mimetype": "text/x-python",
   "name": "python",
   "nbconvert_exporter": "python",
   "pygments_lexer": "ipython3",
   "version": "3.11.4"
  }
 },
 "nbformat": 4,
 "nbformat_minor": 5
}
