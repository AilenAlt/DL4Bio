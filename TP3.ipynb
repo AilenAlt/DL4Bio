{
 "cells": [
  {
   "cell_type": "code",
   "execution_count": 32,
   "id": "4dfa0ec1-0f9d-4b56-9bbc-cea873fe859e",
   "metadata": {},
   "outputs": [],
   "source": [
    "import numpy as np\n",
    "import pandas as pd\n",
    "import matplotlib.pyplot as plt\n",
    "from sklearn.preprocessing import OneHotEncoder, LabelEncoder\n",
    "from sklearn.metrics import confusion_matrix, accuracy_score"
   ]
  },
  {
   "cell_type": "code",
   "execution_count": 2,
   "id": "c17eb2a0-94a0-41ab-a9db-7da7f87b22c2",
   "metadata": {},
   "outputs": [
    {
     "data": {
      "image/png": "[encoded data removed]",
      "text/plain": [
       "<Figure size 640x480 with 1 Axes>"
      ]
     },
     "metadata": {},
     "output_type": "display_data"
    }
   ],
   "source": [
    "x1 = np.linspace(-1, 1, 100).reshape(-1, 1)\n",
    "x2 = np.linspace(-1, 1, 100).reshape(-1, 1)\n",
    "xx1, xx2 = np.meshgrid(x1, x2)\n",
    "X = np.hstack([xx1.flatten().reshape(-1, 1), xx2.flatten().reshape(-1, 1)])\n",
    "\n",
    "def asignar_color(X):\n",
    "    x, y = X[0], X[1]\n",
    "    if x > 0:\n",
    "        if y > x * 0.5:\n",
    "            return np.array('yellow', dtype = '<U8')\n",
    "        else:\n",
    "            return np.array('blue', dtype = '<U8')\n",
    "    if x <= 0:\n",
    "        if y > x * -0.5:\n",
    "            return np.array('yellow', dtype = '<U8')\n",
    "        else:\n",
    "            return np.array('red', dtype = '<U8')\n",
    "\n",
    "Y = np.apply_along_axis(asignar_color, 1, X)\n",
    "\n",
    "df = pd.DataFrame(dict(x=X[:, 0], y=X[:, 1], label=Y))\n",
    "groups = df.groupby('label')\n",
    "\n",
    "fig, ax = plt.subplots()\n",
    "ax.margins(0.05) \n",
    "for name, group in groups:\n",
    "    ax.scatter(group.x, group.y, marker='o', label=name, s = 0.5, c = name)\n",
    "ax.legend()\n",
    "\n",
    "plt.show()\n",
    "\n",
    "encoder = OneHotEncoder()\n",
    "Y_encoded = encoder.fit_transform(Y.reshape(-1, 1)).toarray()"
   ]
  },
  {
   "cell_type": "code",
   "execution_count": 3,
   "id": "121d8c6c-49de-49f3-a530-41d7a075c7d8",
   "metadata": {},
   "outputs": [],
   "source": [
    "def initialize_network(input_size, hidden_sizes, output_size):\n",
    "    \"\"\"\n",
    "    Initialize weights and biases for a neural network.\n",
    "    Args:\n",
    "        input_size: Number of inputs to the network.\n",
    "        hidden_sizes: List of neurons in each hidden layer (n, m, l...) size of layer n, size of layer m\n",
    "        etc.\n",
    "        output_size: Number of outputs of the network.\n",
    "    Returns:\n",
    "    List of (weights, biases) tuples for each layer.\n",
    "    \"\"\"\n",
    "    layer_sizes = [input_size] + hidden_sizes + [output_size]\n",
    "    #print('Layer sizes:',layer_sizes)\n",
    "    network = []\n",
    "    for i in range(len(layer_sizes) - 1):\n",
    "        weights = np.random.randn(layer_sizes[i + 1], layer_sizes[i]) * 0.1\n",
    "        # This creates a 2D array of random values with shape (layer_sizes[i + 1], layer_sizes[i]),\n",
    "        # where each entry represents the weight connecting a neuron in the current layer to a\n",
    "        # neuron in the next layer.\n",
    "        biases = np.zeros(layer_sizes[i + 1])\n",
    "        network.append((weights, biases))\n",
    "    return network\n",
    "\n",
    "# Sigmoid activation function\n",
    "def sigmoid(x):\n",
    "    return 1 / (1 + np.exp(-x))\n",
    "\n",
    "def relu(x):\n",
    "    return (x > 0) * x\n",
    "\n",
    "def sigmoid_derivative(x):\n",
    "    s = sigmoid(x)\n",
    "    return s * (1 - s)\n",
    "\n",
    "def relu_derivative(x):\n",
    "    return (x > 0) * 1\n",
    "\n",
    "def forward_layer_batch(inputs, weights, biases):\n",
    "    \"\"\"\n",
    "    Perform a forward pass for a layer with a batch of inputs.\n",
    "    Args:\n",
    "    inputs: Input to the layer (2D array: batch_size x input_features).\n",
    "    weights: Weights of the layer (2D array: neurons x input_features).\n",
    "    biases: Biases of the layer (1D array: neurons).\n",
    "    Returns:\n",
    "    Outputs of the layer (2D array: batch_size x neurons).\n",
    "    \"\"\"\n",
    "    z = np.dot(inputs, weights.T) + biases # Weighted sum (broadcast biases)\n",
    "    return sigmoid(z), z\n",
    "    #return relu(z), z\n",
    "\n",
    "def softmax(x):\n",
    "    exp_x = np.exp(x - np.max(x, axis=1, keepdims=True))\n",
    "    return exp_x / np.sum(exp_x, axis=1, keepdims=True)\n",
    "    \n",
    "def forward_network_batch_softmax(inputs, network):\n",
    "    \"\"\"\n",
    "    Perform a forward pass through the network for a batch of inputs.\n",
    "    Args:\n",
    "    inputs: Input to the network (2D array: batch_size x input_features).\n",
    "    network: List of (weights, biases) for each layer.\n",
    "    Returns:\n",
    "    Activations for all layers.\n",
    "    \"\"\"\n",
    "    activations = [inputs]\n",
    "    preactivations = [inputs]\n",
    "    for i, (weights, biases) in enumerate(network):\n",
    "        inputs, preactivation = forward_layer_batch(inputs, weights, biases)\n",
    "        activations.append(inputs)\n",
    "        preactivations.append(preactivation)\n",
    "        # Apply softmax for the output layer (last layer)\n",
    "        if i == len(network)-1:\n",
    "            preactivations.append(inputs)\n",
    "            inputs = softmax(inputs)\n",
    "            activations.append(inputs)\n",
    "    return activations, preactivations\n",
    "\n",
    "# Binary Cross-Entropy (BCE) loss function\n",
    "def bce_loss(y_pred, y_true):\n",
    "    return -np.mean(y_true * np.log(y_pred + 1e-15) + (1 - y_true) * np.log(1 - y_pred + 1e-15))\n",
    "    # Gradient of BCE loss w.r.t. predictions\n",
    "\n",
    "def bce_loss_derivative(y_pred, y_true):\n",
    "    return -(y_true / (y_pred + 1e-15)) + ((1 - y_true) / (1 - y_pred + 1e-15))"
   ]
  },
  {
   "cell_type": "code",
   "execution_count": 4,
   "id": "710d0520-d5e4-4e83-8a30-64742b8a1baf",
   "metadata": {},
   "outputs": [],
   "source": [
    "def backward_layer_batch(inputs, weights, d_loss, activation_derivative):\n",
    "    \"\"\"\n",
    "    Perform a backward pass for a layer with a batch of inputs.\n",
    "    Args:\n",
    "    inputs: Input to the layer (2D array: batch_size x input_features).\n",
    "    weights: Weights of the layer (2D array: neurons x input_features).\n",
    "    biases: Biases of the layer (1D array: neurons).\n",
    "    d_loss: Gradients of the loss w.r.t. layer outputs (2D array: batch_size x neurons).\n",
    "    activation_derivative: Derivative of the activation function (2D array: batch_size x neurons).\n",
    "    Returns:\n",
    "    d_weights: Gradients of the weights (2D array: neurons x input_features).\n",
    "    d_biases: Gradients of the biases (1D array: neurons).\n",
    "    d_inputs: Gradients of the inputs to propagate backward (2D array: batch_size x\n",
    "    input_features).\n",
    "    \"\"\"\n",
    "\n",
    "    # Gradients w.r.t. activations\n",
    "    d_activation = d_loss * activation_derivative\n",
    "\n",
    "    # Gradients w.r.t. weights and biases (average across batch)\n",
    "    d_weights = np.dot(d_activation.T, inputs) / len(inputs) # (neurons x inputs)\n",
    "    d_biases = np.mean(d_activation, axis=0) # Average across batch\n",
    "\n",
    "    # Gradients to propagate backward to the previous layer\n",
    "    d_inputs = np.dot(d_activation, weights) # (batch_size x input_features)\n",
    "\n",
    "    return d_weights, d_biases, d_inputs\n",
    "\n",
    "\n",
    "def backward_network_batch_softmax(activations_res, network, y_true, learning_rate):\n",
    "    \"\"\"\n",
    "    Perform a backward pass through the network for a batch of inputs using softmax and BCE\n",
    "    loss.\n",
    "    Args:\n",
    "    activations: Activations from the forward pass.\n",
    "    network: List of (weights, biases) for each layer.\n",
    "    y_true: True output values (2D array: batch_size x output_neurons).\n",
    "    learning_rate: Learning rate for updates.\n",
    "    Returns:\n",
    "    Loss for the batch.\n",
    "    \"\"\"\n",
    "    activations = activations_res[0]\n",
    "    preactivations = activations_res[1]\n",
    "    \n",
    "    y_pred = activations[-1] # Final layer activations (softmax outputs)\n",
    "    loss = bce_loss(y_pred, y_true) # Compute BCE loss for the batch\n",
    "    d_loss = bce_loss_derivative(y_pred, y_true) # Gradient of BCE loss w.r.t. Predictions\n",
    "    # Backward pass through each layer\n",
    "    for i in reversed(range(len(network))):\n",
    "        weights, biases = network[i]\n",
    "        inputs = activations[i]\n",
    "    # Compute activation derivative:\n",
    "    # If it's the output layer, we already have d_loss from BCE, no sigmoid derivative is needed\n",
    "        if i == len(network) - 1:\n",
    "            activation_derivative = 1 # Softmax with BCE has a direct gradient\n",
    "        else:\n",
    "            activation_derivative = sigmoid_derivative(preactivations[i + 1])\n",
    "        # Compute gradients\n",
    "        d_weights, d_biases, d_loss = backward_layer_batch(inputs, weights, d_loss,\n",
    "        activation_derivative)\n",
    "        # Update weights and biases\n",
    "        network[i] = (\n",
    "        weights - learning_rate * d_weights,\n",
    "        biases - learning_rate * d_biases\n",
    "        )\n",
    "    return loss\n",
    "\n",
    "def train_network(hidden_layers, epochs, lr, X, Y,\n",
    "                  decrease_lr = False, verbose = False, \n",
    "                  rate_scheduler = 0.99, epochs_scheduler = 1000):\n",
    "\n",
    "    nw = initialize_network(2, hidden_layers, 3)\n",
    "    losses = []\n",
    "    lrs = []\n",
    "    \n",
    "    for n in range(epochs):\n",
    "        lrs.append(lr)\n",
    "        activation = forward_network_batch_softmax(X, nw)\n",
    "        losses.append(backward_network_batch_softmax(activation, nw, Y, lr))\n",
    "    \n",
    "        if decrease_lr:\n",
    "            if (n % epochs_scheduler == 0):\n",
    "                lr = lr * rate_scheduler\n",
    "\n",
    "        if (n % 1000 == 0) and verbose:\n",
    "            print('Epoch: ', n, '; Loss: ', losses[-1])\n",
    "            \n",
    "    activation = forward_network_batch_softmax(X, nw)\n",
    "    ypred = activation[0][-1]\n",
    "\n",
    "    return losses, ypred, lrs"
   ]
  },
  {
   "cell_type": "code",
   "execution_count": 5,
   "id": "885bdf84-c074-454c-9d6b-0bd8280d9051",
   "metadata": {},
   "outputs": [
    {
     "data": {
      "text/plain": [
       "np.float64(0.6357985350431117)"
      ]
     },
     "execution_count": 5,
     "metadata": {},
     "output_type": "execute_result"
    }
   ],
   "source": [
    "nw = initialize_network(2, [3, 3], 3)\n",
    "activations_res = forward_network_batch_softmax(X, nw)\n",
    "backward_network_batch_softmax(activations_res, nw, Y_encoded, 0.01)"
   ]
  },
  {
   "cell_type": "code",
   "execution_count": 51,
   "id": "2bf0efb4-9588-4f2b-a6af-22e5adc850cc",
   "metadata": {},
   "outputs": [
    {
     "data": {
      "text/plain": [
       "[<matplotlib.lines.Line2D at 0x7f570939b860>]"
      ]
     },
     "execution_count": 51,
     "metadata": {},
     "output_type": "execute_result"
    },
    {
     "data": {
      "image/png": "[encoded data removed]",
      "text/plain": [
       "<Figure size 640x480 with 1 Axes>"
      ]
     },
     "metadata": {},
     "output_type": "display_data"
    }
   ],
   "source": [
    "losses, y_pred, _ = train_network([10], 1000, 0.1, X, Y_encoded)\n",
    "plt.plot(losses)"
   ]
  },
  {
   "cell_type": "code",
   "execution_count": 52,
   "id": "c82de11f-ee40-4874-b55d-7ae375aac172",
   "metadata": {},
   "outputs": [],
   "source": [
    "y_pred.argmax(axis = 1)\n",
    "label_encoder = LabelEncoder()\n",
    "Y_encoded_labels = label_encoder.fit_transform(Y)"
   ]
  },
  {
   "cell_type": "code",
   "execution_count": 53,
   "id": "fee4876e-8fb6-4324-b39a-d114405ffb53",
   "metadata": {},
   "outputs": [
    {
     "name": "stdout",
     "output_type": "stream",
     "text": [
      "0.9346\n",
      "[[2830   96  199]\n",
      " [ 123 2816  186]\n",
      " [  50    0 3700]]\n"
     ]
    },
    {
     "data": {
      "image/png": "[encoded data removed]",
      "text/plain": [
       "<Figure size 640x480 with 1 Axes>"
      ]
     },
     "metadata": {},
     "output_type": "display_data"
    }
   ],
   "source": [
    "print(accuracy_score(Y_encoded_labels, y_pred.argmax(axis = 1)))\n",
    "print(confusion_matrix(Y_encoded_labels, y_pred.argmax(axis = 1)))\n",
    "plt.imshow(confusion_matrix(Y_encoded_labels, y_pred.argmax(axis = 1)), cmap = 'viridis')\n",
    "plt.show()"
   ]
  },
  {
   "cell_type": "code",
   "execution_count": null,
   "id": "db698d4a-9a45-4252-bb72-7c8ccc3078bc",
   "metadata": {},
   "outputs": [],
   "source": []
  }
 ],
 "metadata": {
  "kernelspec": {
   "display_name": "Python 3 (ipykernel)",
   "language": "python",
   "name": "python3"
  },
  "language_info": {
   "codemirror_mode": {
    "name": "ipython",
    "version": 3
   },
   "file_extension": ".py",
   "mimetype": "text/x-python",
   "name": "python",
   "nbconvert_exporter": "python",
   "pygments_lexer": "ipython3",
   "version": "3.12.3"
  }
 },
 "nbformat": 4,
 "nbformat_minor": 5
}
