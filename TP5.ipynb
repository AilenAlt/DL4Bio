{
 "cells": [
  {
   "cell_type": "code",
   "execution_count": 5,
   "metadata": {},
   "outputs": [],
   "source": [
    "import torch\n",
    "import torch.nn as nn\n",
    "import torch.optim as optim\n",
    "from torch.utils.data import DataLoader, TensorDataset\n",
    "import numpy as np\n",
    "import matplotlib.pyplot as plt\n",
    "from sklearn.model_selection import train_test_split\n",
    "\n",
    "from pybedtools import BedTool\n",
    "from Bio import SeqIO\n",
    "from Bio.Seq import Seq\n",
    "from Bio.SeqRecord import SeqRecord\n",
    "import os"
   ]
  },
  {
   "cell_type": "code",
   "execution_count": 3,
   "metadata": {},
   "outputs": [],
   "source": [
    "def extract_binding_sequences(bed_file, fasta_file, output_fasta):\n",
    "\n",
    "    genome = SeqIO.to_dict(SeqIO.parse(fasta_file, \"fasta\"))\n",
    "    bed = BedTool(bed_file)\n",
    "\n",
    "    records = []\n",
    "\n",
    "    for i, interval in enumerate(bed):\n",
    "        chrom = interval.chrom\n",
    "        start = int(interval.start)\n",
    "        end = int(interval.end)\n",
    "\n",
    "        seq = genome[chrom].seq[start:end] \n",
    "        record = SeqRecord(seq, id=f\"{chrom}:{start}-{end}\", description=\"\")\n",
    "        records.append(record.upper())\n",
    "\n",
    "    SeqIO.write(records, output_fasta, \"fasta\")\n",
    " "
   ]
  },
  {
   "cell_type": "code",
   "execution_count": 6,
   "metadata": {},
   "outputs": [],
   "source": [
    "extract_binding_sequences(\"jun_np_chr22_GRCh38.bed\", \"chr22_GRCh28.fasta\", \"jun_np_chr22.fasta\")"
   ]
  },
  {
   "cell_type": "markdown",
   "metadata": {},
   "source": [
    "Ejercicio 5.2: \n",
    "\n",
    "a) genere los 3 sets de secuencias negativas. Para el conjunto N3 (seceencias\n",
    "del genoma que NO unen el FT) puede en primer lugar tomar secuencias (de largo fijo)\n",
    "adyacentes y/o a “n” nt de distancia del sitio de union del FP. Alternativamente puede\n",
    "seleccionar secuencias del Chr22 al azar (o puede probar ambas).\n",
    "\n",
    "b) escriba el codigo para a partir del fasta con las secuencias de ADN ls convierta en un tensor\n",
    "de pytorch de dimension Nseqs, 4, largo Seq\n",
    "\n",
    "c) integre al codigo “b” la opciòn de hacer “0” padding y/o recorte las secuencias a un largo fijo.\n",
    "\n",
    "d) Escriba el codigo que genera ademas el tensor que posee la clasificaciòn real de la\n",
    "secuencia en si une (y_true=1) (o no, y_true=0) el FT. Usualmente a este tensor se lo llama\n",
    "y_true."
   ]
  },
  {
   "cell_type": "code",
   "execution_count": 83,
   "metadata": {},
   "outputs": [],
   "source": [
    "def one_hot_encoding(sequence):\n",
    "\n",
    "    mapping = {'A': 0, 'C': 1, 'G': 2, 'T': 3}\n",
    "    seq_len = len(sequence)\n",
    "    encoding = np.zeros((4, seq_len), dtype=np.float32)\n",
    "\n",
    "    indices = np.array([mapping.get(base, 4) for base in sequence])\n",
    "\n",
    "    valid_indices = indices[indices < 4]  # Exclude 'N' positions\n",
    "    encoding[valid_indices, np.arange(seq_len)[indices < 4]] = 1.0\n",
    "\n",
    "    n_positions = (indices == 4)\n",
    "    encoding[:, n_positions] = 0.25\n",
    "\n",
    "    return torch.Tensor(encoding)\n",
    "\n",
    "\n",
    "def dinucleotide_shuffle(sequence):\n",
    "    \n",
    "    dinucleotides = [sequence[i:i+2] for i in range(0, len(sequence), 2)]\n",
    "    np.random.shuffle(dinucleotides)\n",
    "    shuffled_sequence_str = ''.join(dinucleotides)\n",
    "    \n",
    "    return shuffled_sequence_str\n",
    "\n",
    "def padding(one_hot_sequence, len = 343):\n",
    "\n",
    "    L = one_hot_sequence.shape[1]\n",
    "    pad_total = len - L\n",
    "    pad_left = pad_total // 2\n",
    "    pad_right = pad_total - pad_left\n",
    "        \n",
    "    pad_tensor = torch.nn.functional.pad(one_hot_sequence, (pad_left, pad_right), mode='constant', value=0)\n",
    "   \n",
    "    return pad_tensor\n"
   ]
  },
  {
   "cell_type": "code",
   "execution_count": 92,
   "metadata": {},
   "outputs": [],
   "source": [
    "sites = list(SeqIO.parse(\"jun_np_chr22.fasta\", \"fasta\"))\n",
    "sites = [str(seq_record.seq) for seq_record in sites]\n",
    "tn = [dinucleotide_shuffle(site) for site in sites]\n",
    "\n",
    "sites_one_hot =[(one_hot_encoding(x)) for x in sites]\n",
    "tn_one_hot = [(one_hot_encoding(x)) for x in tn]\n",
    "\n",
    "sites_one_hot = np.array([(padding(x)) for x in sites_one_hot])\n",
    "tn_one_hot = np.array([padding(x) for x in tn_one_hot])\n",
    "\n",
    "y_true = np.array([1 for i in range(sites_one_hot.shape[0])] + [0 for i in range(tn_one_hot.shape[0])])"
   ]
  },
  {
   "cell_type": "code",
   "execution_count": 64,
   "metadata": {},
   "outputs": [
    {
     "data": {
      "text/plain": [
       "343"
      ]
     },
     "execution_count": 64,
     "metadata": {},
     "output_type": "execute_result"
    }
   ],
   "source": [
    "max([sites_one_hot[i].shape[1] for i in range(len(sites_one_hot))])"
   ]
  }
 ],
 "metadata": {
  "kernelspec": {
   "display_name": "base",
   "language": "python",
   "name": "python3"
  },
  "language_info": {
   "codemirror_mode": {
    "name": "ipython",
    "version": 3
   },
   "file_extension": ".py",
   "mimetype": "text/x-python",
   "name": "python",
   "nbconvert_exporter": "python",
   "pygments_lexer": "ipython3",
   "version": "3.11.7"
  }
 },
 "nbformat": 4,
 "nbformat_minor": 2
}
