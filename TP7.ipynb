{
 "cells": [
  {
   "cell_type": "code",
   "execution_count": 66,
   "id": "27012431",
   "metadata": {},
   "outputs": [],
   "source": [
    "import torch\n",
    "import torch.nn as nn\n",
    "import torch.nn.functional as F\n",
    "from torch.utils.data import DataLoader, TensorDataset\n",
    "from Bio import SeqIO\n",
    "import numpy as np\n",
    "import matplotlib.pyplot as plt\n",
    "import pandas as pd\n",
    "import logomaker\n"
   ]
  },
  {
   "cell_type": "code",
   "execution_count": 3,
   "id": "4e57aade",
   "metadata": {},
   "outputs": [],
   "source": [
    "class MSAAutoencoder(nn.Module):\n",
    "    def __init__(self, seq_length, latent_dim=2):\n",
    "        super(MSAAutoencoder, self).__init__()\n",
    "        self.seq_length = seq_length\n",
    "        self.latent_dim = latent_dim\n",
    "        # Encoder\n",
    "        self.encoder = nn.Sequential(\n",
    "            nn.Conv1d(in_channels=21,out_channels=64,kernel_size=3,\n",
    "            padding=1),\n",
    "            nn.ReLU(),\n",
    "            nn.Conv1d(in_channels=64, out_channels=32,kernel_size=3,padding=1),\n",
    "            nn.ReLU(),\n",
    "            nn.Conv1d(in_channels=32,out_channels=16,kernel_size=3,padding=1),\n",
    "            nn.ReLU(),\n",
    "            nn.Conv1d(in_channels=16,out_channels=latent_dim, kernel_size=3, padding=1), # Cuello de botella\n",
    "            nn.LayerNorm([latent_dim, seq_length]) #normaliza\n",
    "        )\n",
    "\n",
    "        # Decoder\n",
    "        self.decoder = nn.Sequential(\n",
    "            nn.Conv1d(in_channels=latent_dim, out_channels=16, kernel_size=3,\n",
    "            padding=1),\n",
    "            nn.ReLU(),\n",
    "            nn.Conv1d(in_channels=16,\n",
    "            out_channels=32, kernel_size=3, padding=1),\n",
    "            nn.ReLU(),\n",
    "            nn.Conv1d(in_channels=32, out_channels=64, kernel_size=3, padding=1),\n",
    "            nn.ReLU(),\n",
    "            nn.Conv1d(in_channels=64, out_channels=21, kernel_size=3, padding=1),\n",
    "        )\n",
    "    \n",
    "    def forward(self, x):\n",
    "        x = self.encoder(x) # Extrae representaciones comprimidas\n",
    "        x = self.decoder(x) # Reconstruye la salida\n",
    "        return x"
   ]
  },
  {
   "cell_type": "markdown",
   "id": "383494b4",
   "metadata": {},
   "source": [
    "a) Escriba un código que permita levantar el alineamiento múltiple y convertirlo a\n",
    "un tensor de dimensiones número de secuencias (N) x 21 canales (OHE) x longitud del\n",
    "alineamiento múltiple (L), qué es lo que se va a utilizar como entrada para el entrenamiento en\n",
    "baches."
   ]
  },
  {
   "cell_type": "code",
   "execution_count": 30,
   "id": "798a9cc9",
   "metadata": {},
   "outputs": [],
   "source": [
    "def leer_fasta(filepath):\n",
    "    secuencias = []\n",
    "    for record in SeqIO.parse(filepath, \"fasta\"):\n",
    "        secuencias.append(str(record.seq))\n",
    "    return secuencias\n",
    "\n",
    "def one_hot_encoding(secuencias, aminoacidos=\"ACDEFGHIKLMNPQRSTVWY-\"):\n",
    "\n",
    "    aa_to_index = {aa: idx for idx, aa in enumerate(aminoacidos)}\n",
    "    ohe_matrices = []\n",
    "    \n",
    "    for secuencia in secuencias:\n",
    "        ohe_matrix = np.zeros((len(aminoacidos), len(secuencia)), dtype=np.float32)\n",
    "        for i, aa in enumerate(secuencia):\n",
    "            if aa in aa_to_index:\n",
    "                ohe_matrix[aa_to_index[aa], i] = 1.0\n",
    "        ohe_matrices.append(ohe_matrix)\n",
    "    \n",
    "    return np.array(ohe_matrices)\n",
    "\n",
    "def one_hot_to_AA(seq_one_hot, aminoacidos=\"ACDEFGHIKLMNPQRSTVWY-\"):\n",
    "    aa_to_index = {idx: aa for idx, aa in enumerate(aminoacidos)}\n",
    "    secuencia = \"\"\n",
    "    for i in range(len(seq_one_hot)):\n",
    "        index = np.argmax(seq_one_hot[:, i])\n",
    "        secuencia += aa_to_index[index]\n",
    "    return secuencia"
   ]
  },
  {
   "cell_type": "code",
   "execution_count": 34,
   "id": "47890731",
   "metadata": {},
   "outputs": [
    {
     "name": "stdout",
     "output_type": "stream",
     "text": [
      "torch.Size([2009, 21, 203])\n"
     ]
    }
   ],
   "source": [
    "seqs = leer_fasta(\"NOPQ_cur.fasta\")\n",
    "seqs_one_hot = torch.tensor(one_hot_encoding(seqs), dtype=torch.float32)\n",
    "print(seqs_one_hot.shape)"
   ]
  },
  {
   "cell_type": "markdown",
   "id": "db027580",
   "metadata": {},
   "source": [
    "b) Escriba, por otro lado, un módulo(función) que le permita comparar dos secuencias y\n",
    "calcular su similitud (por ejemplo utilizando una matriz de sustitucion tipo blossum) o identidad,\n",
    "para evaluar la performance modelo. Recuerde que el autoencoder toma como entrada una\n",
    "secuencia y genera como salida otra secuencia que debería ser igual a la de la entrada. Por lo\n",
    "que dadas las N secuencias del MSA hay N pares (input-output) para comparar."
   ]
  },
  {
   "cell_type": "code",
   "execution_count": 27,
   "id": "5bc42111",
   "metadata": {},
   "outputs": [],
   "source": [
    "from Bio.Align import substitution_matrices\n",
    "\n",
    "def calcular_similitud(seq1, seq2, matriz_sustitucion=substitution_matrices.load(\"BLOSUM62\")):\n",
    "    \n",
    "    puntaje = 0\n",
    "    \n",
    "    for aa1, aa2 in zip(seq1, seq2):\n",
    "        if (aa1, aa2) in matriz_sustitucion:\n",
    "            puntaje += matriz_sustitucion[(aa1, aa2)]\n",
    "        elif (aa2, aa1) in matriz_sustitucion:  # La matriz es simétrica\n",
    "            puntaje += matriz_sustitucion[(aa2, aa1)]\n",
    "    \n",
    "    return puntaje\n"
   ]
  },
  {
   "cell_type": "markdown",
   "id": "b47b5ae2",
   "metadata": {},
   "source": [
    "c) Entonces, primero para un modelo sin entrenar, y luego para diferentes modelos entrenados\n",
    "corra todas los pares de secuencias con su programa de scoring y realice el histograma\n",
    "correspondiente. Analice cómo cambia la performance del modelo cuando uno achica la\n",
    "dimensión latente de 8, a 4, a 2 y hasta uno(1)."
   ]
  },
  {
   "cell_type": "code",
   "execution_count": null,
   "id": "59486ddd",
   "metadata": {},
   "outputs": [],
   "source": [
    "my_nn = MSAAutoencoder(seq_length=seqs_one_hot.shape[2], latent_dim=2)\n",
    "\n",
    "# Sin entrenar\n",
    "out = my_nn(seqs_one_hot)\n",
    "similitud = [[] for _ in range(5)]\n",
    "\n",
    "for i in range(len(seqs)):\n",
    "    similitud[0].append(calcular_similitud(seqs[i], one_hot_to_AA(out[i].detach().numpy())))"
   ]
  },
  {
   "cell_type": "code",
   "execution_count": null,
   "id": "0ec5b87e",
   "metadata": {},
   "outputs": [],
   "source": [
    "def train(network, optimizer, \n",
    "          criterion, \n",
    "          train_loader = None):\n",
    "    \n",
    "    network.train()\n",
    "    batch_size = train_loader.batch_size\n",
    "    total_loss = 0\n",
    "\n",
    "    for batch_i, (data, target) in enumerate(train_loader):\n",
    "        \n",
    "        optimizer.zero_grad()\n",
    "        output = network(data)\n",
    "        loss = criterion(output, target)\n",
    "        loss.backward()\n",
    "        optimizer.step()\n",
    "        total_loss += loss.item()\n",
    "            \n",
    "        \n",
    "    avg_loss = total_loss / len(train_loader)\n",
    "    return avg_loss"
   ]
  },
  {
   "cell_type": "code",
   "execution_count": 43,
   "id": "dbc8215c",
   "metadata": {},
   "outputs": [],
   "source": [
    "y_true_indices = torch.argmax(seqs_one_hot, dim=1)\n",
    "dataset = TensorDataset(seqs_one_hot, y_true_indices)\n",
    "dataloader = DataLoader(dataset, batch_size=10, shuffle=True)"
   ]
  },
  {
   "cell_type": "code",
   "execution_count": 50,
   "id": "ef85c3f5",
   "metadata": {},
   "outputs": [
    {
     "name": "stdout",
     "output_type": "stream",
     "text": [
      "Epoch 10/50, Loss: 0.2934\n",
      "Epoch 20/50, Loss: 0.2223\n",
      "Epoch 30/50, Loss: 0.1800\n",
      "Epoch 40/50, Loss: 0.1479\n",
      "Epoch 50/50, Loss: 0.1301\n",
      "Epoch 10/50, Loss: 0.0009\n",
      "Epoch 20/50, Loss: 0.0001\n",
      "Epoch 30/50, Loss: 0.2126\n",
      "Epoch 40/50, Loss: 0.0006\n",
      "Epoch 50/50, Loss: 0.0002\n",
      "Epoch 10/50, Loss: 0.0005\n",
      "Epoch 20/50, Loss: 0.0001\n",
      "Epoch 30/50, Loss: 0.0009\n",
      "Epoch 40/50, Loss: 0.0002\n",
      "Epoch 50/50, Loss: 0.0001\n",
      "Epoch 10/50, Loss: 0.0011\n",
      "Epoch 20/50, Loss: 0.0001\n",
      "Epoch 30/50, Loss: 0.0010\n",
      "Epoch 40/50, Loss: 0.0002\n",
      "Epoch 50/50, Loss: 0.0001\n"
     ]
    }
   ],
   "source": [
    "dims = [1, 2, 4, 8]\n",
    "losses = []\n",
    "epochs = 50\n",
    "for i,dim in enumerate(dims):\n",
    "    my_nn = MSAAutoencoder(seq_length=seqs_one_hot.shape[2], latent_dim=dim)\n",
    "    optimizer = torch.optim.Adam(my_nn.parameters(), lr=0.001)\n",
    "    criterion = nn.CrossEntropyLoss()\n",
    "    for epoch in range(epochs):\n",
    "        loss = train(my_nn, optimizer, criterion, dataloader)\n",
    "        losses.append(loss)\n",
    "        if (epoch+1) % 10 == 0:\n",
    "            print(f\"Epoch {epoch+1}/{epochs}, Loss: {loss:.4f}\")\n",
    "    similitud[i+1] = [calcular_similitud(seqs[j], one_hot_to_AA(my_nn(seqs_one_hot[j]).detach().numpy())) for j in range(len(seqs))]\n"
   ]
  },
  {
   "cell_type": "code",
   "execution_count": 58,
   "id": "e562ea02",
   "metadata": {},
   "outputs": [
    {
     "data": {
      "image/png": "[encoded data removed]",
      "text/plain": [
       "<Figure size 720x432 with 1 Axes>"
      ]
     },
     "metadata": {
      "needs_background": "light"
     },
     "output_type": "display_data"
    }
   ],
   "source": [
    "dims = ['Sin entrenar', 1, 2, 4, 8]\n",
    "plt.figure(figsize=(10, 6))\n",
    "boxplot = plt.boxplot(similitud, labels=[f\"Dim {dim}\" for dim in dims], patch_artist=True)\n",
    "for box in boxplot['boxes']:\n",
    "    box.set(facecolor='white')\n",
    "plt.title(\"Similitud en función de la dimensión del espacio latente\")\n",
    "plt.xlabel(\"Dimensión del espacio latente\")\n",
    "plt.ylabel(\"Similitud\")\n",
    "plt.grid(axis='y', linestyle='--', alpha=0.7)\n",
    "\n",
    "plt.show()"
   ]
  },
  {
   "cell_type": "markdown",
   "id": "5d3ffe68",
   "metadata": {},
   "source": [
    "# Interpretacion del modelo\n",
    "Ejercicio 72. a) Utilizando el promedio sobre el eje de las diferentes secuencias elija los valores\n",
    "medios en el espacio latente para generar la distribución de probabilidades de los aminoácidos\n",
    "en cada posición. Recuerde que la salida del decoder para obtener la distribución de\n",
    "probabilidades normalizada hay que aplicarle softmax.\n",
    "Compare la distribución de probabilidades de los aminoácidos en cada posición para un modelo\n",
    "sin entrenar, y para un modelo entrenado utilizando la media del vector latente de todas las\n",
    "secuencias. Luego haga lo mismo para cada uno de los grupos N,O,P y si quiere también el\n",
    "grupo Q."
   ]
  },
  {
   "cell_type": "code",
   "execution_count": 60,
   "id": "5789d645",
   "metadata": {},
   "outputs": [
    {
     "data": {
      "text/plain": [
       "torch.Size([2009, 8, 203])"
      ]
     },
     "execution_count": 60,
     "metadata": {},
     "output_type": "execute_result"
    }
   ],
   "source": [
    "my_nn.eval()\n",
    "with torch.no_grad():\n",
    "    latent_vectors = my_nn.encoder(seqs_one_hot)\n",
    "latent_vectors.shape"
   ]
  },
  {
   "cell_type": "code",
   "execution_count": 93,
   "id": "b3e166b5",
   "metadata": {},
   "outputs": [
    {
     "data": {
      "text/plain": [
       "torch.Size([1, 8, 203])"
      ]
     },
     "execution_count": 93,
     "metadata": {},
     "output_type": "execute_result"
    }
   ],
   "source": [
    "mu = latent_vectors.mean(dim=0, keepdim=True)\n",
    "mu.shape"
   ]
  },
  {
   "cell_type": "code",
   "execution_count": 94,
   "id": "63596fc6",
   "metadata": {},
   "outputs": [
    {
     "data": {
      "text/plain": [
       "torch.Size([1, 21, 203])"
      ]
     },
     "execution_count": 94,
     "metadata": {},
     "output_type": "execute_result"
    }
   ],
   "source": [
    "with torch.no_grad():\n",
    "    decoded = my_nn.decoder(mu)\n",
    "prob_dist = torch.softmax(decoded, dim=1)\n",
    "prob_dist.shape"
   ]
  },
  {
   "cell_type": "code",
   "execution_count": 97,
   "id": "faf580d2",
   "metadata": {},
   "outputs": [
    {
     "data": {
      "image/png": "[encoded data removed]",
      "text/plain": [
       "<Figure size 720x180 with 1 Axes>"
      ]
     },
     "metadata": {
      "needs_background": "light"
     },
     "output_type": "display_data"
    }
   ],
   "source": [
    "amino_acids = list(\"ACDEFGHIKLMNPQRSTVWY-\")\n",
    "prob_df = pd.DataFrame(prob_dist.squeeze().numpy().T, columns=amino_acids)\n",
    "prob_df = prob_df.drop(columns=['-']) # Remove the gap column\n",
    "prob_df=prob_df.iloc[25:50]\n",
    "# Define the color scheme\n",
    "color_scheme = {\n",
    "'A': '#FF0000', # Red\n",
    "'R': '#00FF00', # Green\n",
    "'N': '#0000FF', # Blue\n",
    "'D': '#FFFF00', # Yellow\n",
    "'C': '#FF00FF', # Magenta\n",
    "'Q': '#00FFFF', # Cyan\n",
    "'E': '#FF8000', # Orange\n",
    "'G': '#8000FF', # Purple\n",
    "'H': '#FFFF80', # Light Yellow\n",
    "'I': '#800000', # Dark Red\n",
    "'L': '#008000', # Dark Green\n",
    "'K': '#000080', # Dark Blue\n",
    "'M': '#808000', # Olive\n",
    "'F': '#800080', # Dark Magenta\n",
    "'P': '#808080', # Gray\n",
    "'S': '#00FF80', # Light Green\n",
    "'T': '#008080', # Teal\n",
    "'W': '#FFFFFF', # White\n",
    "'Y': '#FF80FF', # Pink\n",
    "'V': '#FFD700', # Gold\n",
    "'-': '#000000', # Black for gaps\n",
    "}\n",
    "# Apply the color scheme to the logo\n",
    "logo = logomaker.Logo(prob_df, color_scheme=color_scheme)\n",
    "# Show the logo\n",
    "plt.show()"
   ]
  }
 ],
 "metadata": {
  "kernelspec": {
   "display_name": "base",
   "language": "python",
   "name": "python3"
  },
  "language_info": {
   "codemirror_mode": {
    "name": "ipython",
    "version": 3
   },
   "file_extension": ".py",
   "mimetype": "text/x-python",
   "name": "python",
   "nbconvert_exporter": "python",
   "pygments_lexer": "ipython3",
   "version": "3.9.7"
  }
 },
 "nbformat": 4,
 "nbformat_minor": 5
}
